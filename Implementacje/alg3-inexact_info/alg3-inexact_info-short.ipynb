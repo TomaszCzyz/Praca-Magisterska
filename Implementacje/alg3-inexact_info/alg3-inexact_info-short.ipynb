{
 "cells": [
  {
   "source": [
    "# ALGORYTM Z \"Approximation of piecewise Hölder functions from inexact information\"\n",
    "\n",
    "# PARAMETRY ALGORYTMU:\n",
    "# h = T/m, gdzie m >= 2r + 1   <--- initial resolution of the mesh\n",
    "# 0 < w < (r + 1) * h"
   ],
   "cell_type": "code",
   "metadata": {},
   "execution_count": 21,
   "outputs": []
  },
  {
   "source": [
    "# Kroki algorytmu:\n",
    "# 1. aproksymacja punktu osobliwego s_f\n",
    "#   1a. siatka regularna (o długości h) oraz różnice dzielne użyte są do lokalizacji s_f na przedziale [u_1, v_1] (o długości (r+1) * h)\n",
    "#   1b. zawęzenie przedziałów z 1a do [u_2, v_2] przy użyciu wielomianów ekstrpolacyjnych p_neg i p_pos\n",
    "#   1c. wyprodukowanie przedziału [u_3, v_3] zawierającego się (lub równego) [u_2, v_2], w którym różnica |p_pos - p_neg| jest nierosnąca na [u_3, ksi] i niemalejąca na [ksi, v_3], gdzie ksi jest finalną aproksymacją s_f\n",
    "# 2."
   ],
   "cell_type": "code",
   "metadata": {},
   "execution_count": 22,
   "outputs": []
  },
  {
   "cell_type": "code",
   "execution_count": 23,
   "metadata": {},
   "outputs": [],
   "source": [
    "import numpy as np\n",
    "import matplotlib.pyplot as plt"
   ]
  },
  {
   "cell_type": "code",
   "execution_count": 39,
   "metadata": {},
   "outputs": [],
   "source": [
    "T = 2 * np.pi + 0.5\n",
    "\n",
    "def f(x):\n",
    "    if 0 <= x < np.pi:\n",
    "        return np.sin(x - np.pi)\n",
    "    if np.pi <= x <= 2 * np.pi + 0.5:\n",
    "        return np.sin(x - np.pi - 0.5)\n"
   ]
  },
  {
   "cell_type": "code",
   "execution_count": 25,
   "metadata": {},
   "outputs": [],
   "source": [
    "T = 3 * np.pi\n",
    "\n",
    "def f(x):\n",
    "    if 0 <= x < np.pi:\n",
    "        return np.sin(x)\n",
    "    if np.pi <= x <= 3 * np.pi:\n",
    "        return np.sin(x - np.pi)"
   ]
  },
  {
   "cell_type": "code",
   "execution_count": 40,
   "metadata": {},
   "outputs": [],
   "source": [
    "def d_noisy(i, r, t, y):\n",
    "    '''t : array of data points t_i, ... , t_{i+r+1}\n",
    "       y : array of y_j = f(t_j) + e_j  '''\n",
    "    t.astype('float64')\n",
    "    y.astype('float64')\n",
    "\n",
    "    sum = np.float64(0.0)\n",
    "    for j in range(i, i+r+1):\n",
    "\n",
    "        product = 1.0\n",
    "        for k in range(i, i+r+1):\n",
    "            if k == j:\n",
    "                continue\n",
    "            product *= 1 / (t[k] - t[j])\n",
    "\n",
    "        sum += y[j] * product\n",
    "\n",
    "    return sum"
   ]
  },
  {
   "cell_type": "code",
   "execution_count": 41,
   "metadata": {},
   "outputs": [],
   "source": [
    "from scipy.optimize import minimize_scalar\n",
    "from scipy import interpolate"
   ]
  },
  {
   "cell_type": "code",
   "execution_count": 42,
   "metadata": {},
   "outputs": [],
   "source": [
    "delta = 10e-4\n",
    "r = 2\n",
    "m = 100"
   ]
  },
  {
   "cell_type": "code",
   "execution_count": 43,
   "metadata": {
    "tags": []
   },
   "outputs": [],
   "source": [
    "# Step 0 (initialization of algorithm's constants and function evaluations)\n",
    "h = T / m\n",
    "w = -1.0 * np.random.uniform(-(r + 1) * h, 0) # multiply by -1 because we need interval (0, (r + 1) * h]\n",
    "\n",
    "t = np.linspace(0, T, m+1, dtype='float64') # czyli mamy m+1 wezlów postaci t[0], ... , t[m]\n",
    "e = np.random.uniform(-delta, delta, m+1)\n",
    "y = np.array([f(t[j]) + e[j] for j in range(0, m+1)])"
   ]
  },
  {
   "cell_type": "code",
   "execution_count": 44,
   "metadata": {},
   "outputs": [],
   "source": [
    "# Step 1\n",
    "i_max = np.argmax([d_noisy(i, r, t, y) for i in range(0, m-r)])\n",
    "u_1 = t[i_max]\n",
    "v_1 = t[i_max + r +1]"
   ]
  },
  {
   "cell_type": "code",
   "execution_count": 45,
   "metadata": {},
   "outputs": [],
   "source": [
    "# Step 2\n",
    "p_neg = interpolate.interp1d(\n",
    "    t[i_max - r:i_max + 1],\n",
    "    y[i_max - r:i_max + 1],\n",
    "    fill_value=\"extrapolate\"\n",
    ")\n",
    "p_pos = interpolate.interp1d(\n",
    "    t[i_max + r + 1: i_max + 2 * r + 1 + 1],\n",
    "    y[i_max + r + 1: i_max + 2 * r + 1 + 1],\n",
    "    fill_value=\"extrapolate\"\n",
    ")\n"
   ]
  },
  {
   "cell_type": "code",
   "execution_count": 46,
   "metadata": {
    "tags": []
   },
   "outputs": [],
   "source": [
    "# Step 2 continued\n",
    "u = u_1\n",
    "v = v_1\n",
    "\n",
    "while v - u > w:\n",
    "    z = np.array([u + j * (v - u) / (r + 2) for j in range(1, r + 2)])\n",
    "    dif = np.abs(p_pos(z) - p_neg(z))\n",
    "    j_max = np.argmax(dif)\n",
    "\n",
    "    # tu chyba nie powinno byc bezposrednio f tylko f_noisy = f() + e\n",
    "    if np.abs(f(z[j_max]) - p_neg(z[j_max])) <= np.abs(f(z[j_max]) - p_pos(z[j_max])):\n",
    "        u = z[j_max]\n",
    "    else:\n",
    "        v = z[j_max]\n",
    "\n",
    "u_2 = u\n",
    "v_2 = v"
   ]
  },
  {
   "cell_type": "code",
   "execution_count": 47,
   "metadata": {},
   "outputs": [],
   "source": [
    "# Step 3\n",
    "u = u_2\n",
    "v = v_2\n",
    "\n",
    "def fun(x):\n",
    "    return -1 * np.abs(p_neg(x) - p_pos(x))\n",
    "    \n",
    "z_max = [0.0]   # it list only because we need to modify it inside of function (we cannot modify number)\n",
    "while True:\n",
    "    result = minimize_scalar(fun=fun, bracket=(u,v))\n",
    "    if result.success == False:\n",
    "        break\n",
    "    \n",
    "    z_max = result.x\n",
    "    if np.abs(f(z_max) - p_neg(z_max)) <= np.abs(f(z_max) - p_pos(z_max)):\n",
    "        u = z\n",
    "    else:\n",
    "        v = z\n",
    "\n",
    "u_3 = u\n",
    "v_3 = v"
   ]
  },
  {
   "cell_type": "code",
   "execution_count": 48,
   "metadata": {},
   "outputs": [],
   "source": [
    "# Final approximation (i use custom mesh to find argmin)\n",
    "mesh = np.arange(u_1, v_1, step=0.0005)\n",
    "x_array = [np.abs(p_pos(k) - p_neg(k)) for k in mesh]\n",
    "ksi = mesh[np.argmin(x_array)] # ksi is on x-asix"
   ]
  },
  {
   "source": [
    "# mamy \"przedziały\" na osi x-ów:\n",
    "# t[0],...,t[i_max-1]      u_1,...,ksi   ksi,...,v_1   t[i_max + r + 1 + 1],...,T\n",
    "# u_1 = t[i_max]   v_1 = t[i_max + r + 1]\n",
    "\n",
    "# finding closest value to ksi in orginal mesh\n",
    "k = 0\n",
    "while ksi > t[k]:\n",
    "    k += 1\n",
    "\n",
    "k = k if np.abs(ksi - t[k]) < np.abs(ksi - t[k+1]) else k+1\n",
    "\n",
    "x_array = np.append(t[:i_max-1], t[i_max:k], )"
   ],
   "cell_type": "code",
   "metadata": {},
   "execution_count": 49,
   "outputs": []
  },
  {
   "cell_type": "code",
   "execution_count": 50,
   "metadata": {},
   "outputs": [],
   "source": [
    "# Final interpolating polynomial\n",
    "\n",
    "polynomial1 = interpolate.interp1d(\n",
    "            t[:i_max + 1],\n",
    "            y[:i_max + 1])\n",
    "\n",
    "polynomial2 = interpolate.interp1d(\n",
    "            t[i_max + r + 1:],\n",
    "            y[i_max + r + 1:])\n",
    "\n",
    "def final_polynomial(x):\n",
    "    if (t[0] <= x).all() and (x < u_1).all():\n",
    "        return polynomial1(x)\n",
    "    if (u_1 <= x).all() and (x < ksi).all():\n",
    "        return p_neg(x)\n",
    "    if (ksi <= x).all() and (x < v_1).all():\n",
    "        return p_pos(x)\n",
    "    if (v_1 <= x).all() and (x <= t[m]).all():\n",
    "        return polynomial2(x)"
   ]
  },
  {
   "cell_type": "code",
   "execution_count": 51,
   "metadata": {},
   "outputs": [],
   "source": [
    "values = []\n",
    "for x in t:\n",
    "    values += [final_polynomial(x)]\n",
    "\n",
    "values = np.array(values)"
   ]
  },
  {
   "cell_type": "code",
   "execution_count": 52,
   "metadata": {},
   "outputs": [
    {
     "output_type": "execute_result",
     "data": {
      "text/plain": [
       "<matplotlib.collections.PathCollection at 0x28a339892e0>"
      ]
     },
     "metadata": {},
     "execution_count": 52
    },
    {
     "output_type": "display_data",
     "data": {
      "text/plain": "<Figure size 432x288 with 1 Axes>",
      "image/svg+xml": "<?xml version=\"1.0\" encoding=\"utf-8\" standalone=\"no\"?>\r\n<!DOCTYPE svg PUBLIC \"-//W3C//DTD SVG 1.1//EN\"\r\n  \"http://www.w3.org/Graphics/SVG/1.1/DTD/svg11.dtd\">\r\n<!-- Created with matplotlib (https://matplotlib.org/) -->\r\n<svg height=\"248.518125pt\" version=\"1.1\" viewBox=\"0 0 386.845312 248.518125\" width=\"386.845312pt\" xmlns=\"http://www.w3.org/2000/svg\" xmlns:xlink=\"http://www.w3.org/1999/xlink\">\r\n <metadata>\r\n  <rdf:RDF xmlns:cc=\"http://creativecommons.org/ns#\" xmlns:dc=\"http://purl.org/dc/elements/1.1/\" xmlns:rdf=\"http://www.w3.org/1999/02/22-rdf-syntax-ns#\">\r\n   <cc:Work>\r\n    <dc:type rdf:resource=\"http://purl.org/dc/dcmitype/StillImage\"/>\r\n    <dc:date>2021-01-09T22:58:27.470641</dc:date>\r\n    <dc:format>image/svg+xml</dc:format>\r\n    <dc:creator>\r\n     <cc:Agent>\r\n      <dc:title>Matplotlib v3.3.2, https://matplotlib.org/</dc:title>\r\n     </cc:Agent>\r\n    </dc:creator>\r\n   </cc:Work>\r\n  </rdf:RDF>\r\n </metadata>\r\n <defs>\r\n  <style type=\"text/css\">*{stroke-linecap:butt;stroke-linejoin:round;}</style>\r\n </defs>\r\n <g id=\"figure_1\">\r\n  <g id=\"patch_1\">\r\n   <path d=\"M 0 248.518125 \r\nL 386.845312 248.518125 \r\nL 386.845312 0 \r\nL 0 0 \r\nz\r\n\" style=\"fill:none;\"/>\r\n  </g>\r\n  <g id=\"axes_1\">\r\n   <g id=\"patch_2\">\r\n    <path d=\"M 44.845313 224.64 \r\nL 379.645313 224.64 \r\nL 379.645313 7.2 \r\nL 44.845313 7.2 \r\nz\r\n\" style=\"fill:#ffffff;\"/>\r\n   </g>\r\n   <g id=\"PathCollection_1\">\r\n    <defs>\r\n     <path d=\"M 0 3 \r\nC 0.795609 3 1.55874 2.683901 2.12132 2.12132 \r\nC 2.683901 1.55874 3 0.795609 3 0 \r\nC 3 -0.795609 2.683901 -1.55874 2.12132 -2.12132 \r\nC 1.55874 -2.683901 0.795609 -3 0 -3 \r\nC -0.795609 -3 -1.55874 -2.683901 -2.12132 -2.12132 \r\nC -2.683901 -1.55874 -3 -0.795609 -3 0 \r\nC -3 0.795609 -2.683901 1.55874 -2.12132 2.12132 \r\nC -1.55874 2.683901 -0.795609 3 0 3 \r\nz\r\n\" id=\"mcac3154c7c\" style=\"stroke:#1f77b4;\"/>\r\n    </defs>\r\n    <g clip-path=\"url(#p2e43e18ae2)\">\r\n     <use style=\"fill:#1f77b4;stroke:#1f77b4;\" x=\"60.063494\" xlink:href=\"#mcac3154c7c\" y=\"115.797503\"/>\r\n     <use style=\"fill:#1f77b4;stroke:#1f77b4;\" x=\"63.107131\" xlink:href=\"#mcac3154c7c\" y=\"122.46097\"/>\r\n     <use style=\"fill:#1f77b4;stroke:#1f77b4;\" x=\"66.150767\" xlink:href=\"#mcac3154c7c\" y=\"129.200076\"/>\r\n     <use style=\"fill:#1f77b4;stroke:#1f77b4;\" x=\"69.194403\" xlink:href=\"#mcac3154c7c\" y=\"135.843025\"/>\r\n     <use style=\"fill:#1f77b4;stroke:#1f77b4;\" x=\"72.23804\" xlink:href=\"#mcac3154c7c\" y=\"142.360188\"/>\r\n     <use style=\"fill:#1f77b4;stroke:#1f77b4;\" x=\"75.281676\" xlink:href=\"#mcac3154c7c\" y=\"148.661952\"/>\r\n     <use style=\"fill:#1f77b4;stroke:#1f77b4;\" x=\"78.325313\" xlink:href=\"#mcac3154c7c\" y=\"154.94439\"/>\r\n     <use style=\"fill:#1f77b4;stroke:#1f77b4;\" x=\"81.368949\" xlink:href=\"#mcac3154c7c\" y=\"161.04736\"/>\r\n     <use style=\"fill:#1f77b4;stroke:#1f77b4;\" x=\"84.412585\" xlink:href=\"#mcac3154c7c\" y=\"166.902823\"/>\r\n     <use style=\"fill:#1f77b4;stroke:#1f77b4;\" x=\"87.456222\" xlink:href=\"#mcac3154c7c\" y=\"172.609427\"/>\r\n     <use style=\"fill:#1f77b4;stroke:#1f77b4;\" x=\"90.499858\" xlink:href=\"#mcac3154c7c\" y=\"177.84034\"/>\r\n     <use style=\"fill:#1f77b4;stroke:#1f77b4;\" x=\"93.543494\" xlink:href=\"#mcac3154c7c\" y=\"183.057703\"/>\r\n     <use style=\"fill:#1f77b4;stroke:#1f77b4;\" x=\"96.587131\" xlink:href=\"#mcac3154c7c\" y=\"187.666887\"/>\r\n     <use style=\"fill:#1f77b4;stroke:#1f77b4;\" x=\"99.630767\" xlink:href=\"#mcac3154c7c\" y=\"192.194894\"/>\r\n     <use style=\"fill:#1f77b4;stroke:#1f77b4;\" x=\"102.674403\" xlink:href=\"#mcac3154c7c\" y=\"196.258815\"/>\r\n     <use style=\"fill:#1f77b4;stroke:#1f77b4;\" x=\"105.71804\" xlink:href=\"#mcac3154c7c\" y=\"200.018332\"/>\r\n     <use style=\"fill:#1f77b4;stroke:#1f77b4;\" x=\"108.761676\" xlink:href=\"#mcac3154c7c\" y=\"203.230115\"/>\r\n     <use style=\"fill:#1f77b4;stroke:#1f77b4;\" x=\"111.805312\" xlink:href=\"#mcac3154c7c\" y=\"206.315074\"/>\r\n     <use style=\"fill:#1f77b4;stroke:#1f77b4;\" x=\"114.848949\" xlink:href=\"#mcac3154c7c\" y=\"208.703998\"/>\r\n     <use style=\"fill:#1f77b4;stroke:#1f77b4;\" x=\"117.892585\" xlink:href=\"#mcac3154c7c\" y=\"210.867818\"/>\r\n     <use style=\"fill:#1f77b4;stroke:#1f77b4;\" x=\"120.936222\" xlink:href=\"#mcac3154c7c\" y=\"212.442169\"/>\r\n     <use style=\"fill:#1f77b4;stroke:#1f77b4;\" x=\"123.979858\" xlink:href=\"#mcac3154c7c\" y=\"213.575173\"/>\r\n     <use style=\"fill:#1f77b4;stroke:#1f77b4;\" x=\"127.023494\" xlink:href=\"#mcac3154c7c\" y=\"214.388403\"/>\r\n     <use style=\"fill:#1f77b4;stroke:#1f77b4;\" x=\"130.067131\" xlink:href=\"#mcac3154c7c\" y=\"214.756364\"/>\r\n     <use style=\"fill:#1f77b4;stroke:#1f77b4;\" x=\"133.110767\" xlink:href=\"#mcac3154c7c\" y=\"214.509401\"/>\r\n     <use style=\"fill:#1f77b4;stroke:#1f77b4;\" x=\"136.154403\" xlink:href=\"#mcac3154c7c\" y=\"213.992682\"/>\r\n     <use style=\"fill:#1f77b4;stroke:#1f77b4;\" x=\"139.19804\" xlink:href=\"#mcac3154c7c\" y=\"212.871589\"/>\r\n     <use style=\"fill:#1f77b4;stroke:#1f77b4;\" x=\"142.241676\" xlink:href=\"#mcac3154c7c\" y=\"211.43807\"/>\r\n     <use style=\"fill:#1f77b4;stroke:#1f77b4;\" x=\"145.285313\" xlink:href=\"#mcac3154c7c\" y=\"209.433173\"/>\r\n     <use style=\"fill:#1f77b4;stroke:#1f77b4;\" x=\"148.328949\" xlink:href=\"#mcac3154c7c\" y=\"207.145513\"/>\r\n     <use style=\"fill:#1f77b4;stroke:#1f77b4;\" x=\"151.372585\" xlink:href=\"#mcac3154c7c\" y=\"204.28413\"/>\r\n     <use style=\"fill:#1f77b4;stroke:#1f77b4;\" x=\"154.416222\" xlink:href=\"#mcac3154c7c\" y=\"201.027821\"/>\r\n     <use style=\"fill:#1f77b4;stroke:#1f77b4;\" x=\"157.459858\" xlink:href=\"#mcac3154c7c\" y=\"197.46773\"/>\r\n     <use style=\"fill:#1f77b4;stroke:#1f77b4;\" x=\"160.503494\" xlink:href=\"#mcac3154c7c\" y=\"193.519143\"/>\r\n     <use style=\"fill:#1f77b4;stroke:#1f77b4;\" x=\"163.547131\" xlink:href=\"#mcac3154c7c\" y=\"189.18348\"/>\r\n     <use style=\"fill:#1f77b4;stroke:#1f77b4;\" x=\"166.590767\" xlink:href=\"#mcac3154c7c\" y=\"184.417273\"/>\r\n     <use style=\"fill:#1f77b4;stroke:#1f77b4;\" x=\"169.634403\" xlink:href=\"#mcac3154c7c\" y=\"179.620374\"/>\r\n     <use style=\"fill:#1f77b4;stroke:#1f77b4;\" x=\"172.67804\" xlink:href=\"#mcac3154c7c\" y=\"174.269585\"/>\r\n     <use style=\"fill:#1f77b4;stroke:#1f77b4;\" x=\"175.721676\" xlink:href=\"#mcac3154c7c\" y=\"168.643975\"/>\r\n     <use style=\"fill:#1f77b4;stroke:#1f77b4;\" x=\"178.765312\" xlink:href=\"#mcac3154c7c\" y=\"162.985238\"/>\r\n     <use style=\"fill:#1f77b4;stroke:#1f77b4;\" x=\"181.808949\" xlink:href=\"#mcac3154c7c\" y=\"156.883864\"/>\r\n     <use style=\"fill:#1f77b4;stroke:#1f77b4;\" x=\"184.852585\" xlink:href=\"#mcac3154c7c\" y=\"150.716313\"/>\r\n     <use style=\"fill:#1f77b4;stroke:#1f77b4;\" x=\"187.896222\" xlink:href=\"#mcac3154c7c\" y=\"144.304851\"/>\r\n     <use style=\"fill:#1f77b4;stroke:#1f77b4;\" x=\"190.939858\" xlink:href=\"#mcac3154c7c\" y=\"137.844354\"/>\r\n     <use style=\"fill:#1f77b4;stroke:#1f77b4;\" x=\"193.983494\" xlink:href=\"#mcac3154c7c\" y=\"131.294823\"/>\r\n     <use style=\"fill:#1f77b4;stroke:#1f77b4;\" x=\"197.027131\" xlink:href=\"#mcac3154c7c\" y=\"124.606145\"/>\r\n     <use style=\"fill:#1f77b4;stroke:#1f77b4;\" x=\"200.070767\" xlink:href=\"#mcac3154c7c\" y=\"165.751852\"/>\r\n     <use style=\"fill:#1f77b4;stroke:#1f77b4;\" x=\"203.114403\" xlink:href=\"#mcac3154c7c\" y=\"159.389745\"/>\r\n     <use style=\"fill:#1f77b4;stroke:#1f77b4;\" x=\"206.15804\" xlink:href=\"#mcac3154c7c\" y=\"153.027637\"/>\r\n     <use style=\"fill:#1f77b4;stroke:#1f77b4;\" x=\"209.201676\" xlink:href=\"#mcac3154c7c\" y=\"146.66553\"/>\r\n     <use style=\"fill:#1f77b4;stroke:#1f77b4;\" x=\"212.245313\" xlink:href=\"#mcac3154c7c\" y=\"140.303422\"/>\r\n     <use style=\"fill:#1f77b4;stroke:#1f77b4;\" x=\"215.288949\" xlink:href=\"#mcac3154c7c\" y=\"133.789895\"/>\r\n     <use style=\"fill:#1f77b4;stroke:#1f77b4;\" x=\"218.332585\" xlink:href=\"#mcac3154c7c\" y=\"127.087907\"/>\r\n     <use style=\"fill:#1f77b4;stroke:#1f77b4;\" x=\"221.376222\" xlink:href=\"#mcac3154c7c\" y=\"120.522424\"/>\r\n     <use style=\"fill:#1f77b4;stroke:#1f77b4;\" x=\"224.419858\" xlink:href=\"#mcac3154c7c\" y=\"113.846132\"/>\r\n     <use style=\"fill:#1f77b4;stroke:#1f77b4;\" x=\"227.463494\" xlink:href=\"#mcac3154c7c\" y=\"107.093883\"/>\r\n     <use style=\"fill:#1f77b4;stroke:#1f77b4;\" x=\"230.507131\" xlink:href=\"#mcac3154c7c\" y=\"100.493792\"/>\r\n     <use style=\"fill:#1f77b4;stroke:#1f77b4;\" x=\"233.550767\" xlink:href=\"#mcac3154c7c\" y=\"93.814474\"/>\r\n     <use style=\"fill:#1f77b4;stroke:#1f77b4;\" x=\"236.594403\" xlink:href=\"#mcac3154c7c\" y=\"87.312448\"/>\r\n     <use style=\"fill:#1f77b4;stroke:#1f77b4;\" x=\"239.63804\" xlink:href=\"#mcac3154c7c\" y=\"80.917167\"/>\r\n     <use style=\"fill:#1f77b4;stroke:#1f77b4;\" x=\"242.681676\" xlink:href=\"#mcac3154c7c\" y=\"74.804277\"/>\r\n     <use style=\"fill:#1f77b4;stroke:#1f77b4;\" x=\"245.725312\" xlink:href=\"#mcac3154c7c\" y=\"68.73719\"/>\r\n     <use style=\"fill:#1f77b4;stroke:#1f77b4;\" x=\"248.768949\" xlink:href=\"#mcac3154c7c\" y=\"63.098789\"/>\r\n     <use style=\"fill:#1f77b4;stroke:#1f77b4;\" x=\"251.812585\" xlink:href=\"#mcac3154c7c\" y=\"57.386067\"/>\r\n     <use style=\"fill:#1f77b4;stroke:#1f77b4;\" x=\"254.856222\" xlink:href=\"#mcac3154c7c\" y=\"52.268978\"/>\r\n     <use style=\"fill:#1f77b4;stroke:#1f77b4;\" x=\"257.899858\" xlink:href=\"#mcac3154c7c\" y=\"47.155236\"/>\r\n     <use style=\"fill:#1f77b4;stroke:#1f77b4;\" x=\"260.943494\" xlink:href=\"#mcac3154c7c\" y=\"42.456651\"/>\r\n     <use style=\"fill:#1f77b4;stroke:#1f77b4;\" x=\"263.987131\" xlink:href=\"#mcac3154c7c\" y=\"38.169042\"/>\r\n     <use style=\"fill:#1f77b4;stroke:#1f77b4;\" x=\"267.030767\" xlink:href=\"#mcac3154c7c\" y=\"34.220259\"/>\r\n     <use style=\"fill:#1f77b4;stroke:#1f77b4;\" x=\"270.074403\" xlink:href=\"#mcac3154c7c\" y=\"30.617069\"/>\r\n     <use style=\"fill:#1f77b4;stroke:#1f77b4;\" x=\"273.11804\" xlink:href=\"#mcac3154c7c\" y=\"27.431833\"/>\r\n     <use style=\"fill:#1f77b4;stroke:#1f77b4;\" x=\"276.161676\" xlink:href=\"#mcac3154c7c\" y=\"24.683273\"/>\r\n     <use style=\"fill:#1f77b4;stroke:#1f77b4;\" x=\"279.205312\" xlink:href=\"#mcac3154c7c\" y=\"22.234274\"/>\r\n     <use style=\"fill:#1f77b4;stroke:#1f77b4;\" x=\"282.248949\" xlink:href=\"#mcac3154c7c\" y=\"20.254492\"/>\r\n     <use style=\"fill:#1f77b4;stroke:#1f77b4;\" x=\"285.292585\" xlink:href=\"#mcac3154c7c\" y=\"18.795755\"/>\r\n     <use style=\"fill:#1f77b4;stroke:#1f77b4;\" x=\"288.336222\" xlink:href=\"#mcac3154c7c\" y=\"17.814229\"/>\r\n     <use style=\"fill:#1f77b4;stroke:#1f77b4;\" x=\"291.379858\" xlink:href=\"#mcac3154c7c\" y=\"17.118816\"/>\r\n     <use style=\"fill:#1f77b4;stroke:#1f77b4;\" x=\"294.423494\" xlink:href=\"#mcac3154c7c\" y=\"17.083636\"/>\r\n     <use style=\"fill:#1f77b4;stroke:#1f77b4;\" x=\"297.467131\" xlink:href=\"#mcac3154c7c\" y=\"17.28202\"/>\r\n     <use style=\"fill:#1f77b4;stroke:#1f77b4;\" x=\"300.510767\" xlink:href=\"#mcac3154c7c\" y=\"18.079649\"/>\r\n     <use style=\"fill:#1f77b4;stroke:#1f77b4;\" x=\"303.554403\" xlink:href=\"#mcac3154c7c\" y=\"19.296369\"/>\r\n     <use style=\"fill:#1f77b4;stroke:#1f77b4;\" x=\"306.59804\" xlink:href=\"#mcac3154c7c\" y=\"20.934808\"/>\r\n     <use style=\"fill:#1f77b4;stroke:#1f77b4;\" x=\"309.641676\" xlink:href=\"#mcac3154c7c\" y=\"22.918877\"/>\r\n     <use style=\"fill:#1f77b4;stroke:#1f77b4;\" x=\"312.685313\" xlink:href=\"#mcac3154c7c\" y=\"25.484753\"/>\r\n     <use style=\"fill:#1f77b4;stroke:#1f77b4;\" x=\"315.728949\" xlink:href=\"#mcac3154c7c\" y=\"28.491351\"/>\r\n     <use style=\"fill:#1f77b4;stroke:#1f77b4;\" x=\"318.772585\" xlink:href=\"#mcac3154c7c\" y=\"31.797281\"/>\r\n     <use style=\"fill:#1f77b4;stroke:#1f77b4;\" x=\"321.816222\" xlink:href=\"#mcac3154c7c\" y=\"35.411007\"/>\r\n     <use style=\"fill:#1f77b4;stroke:#1f77b4;\" x=\"324.859858\" xlink:href=\"#mcac3154c7c\" y=\"39.503876\"/>\r\n     <use style=\"fill:#1f77b4;stroke:#1f77b4;\" x=\"327.903494\" xlink:href=\"#mcac3154c7c\" y=\"44.063718\"/>\r\n     <use style=\"fill:#1f77b4;stroke:#1f77b4;\" x=\"330.947131\" xlink:href=\"#mcac3154c7c\" y=\"48.77386\"/>\r\n     <use style=\"fill:#1f77b4;stroke:#1f77b4;\" x=\"333.990767\" xlink:href=\"#mcac3154c7c\" y=\"53.746377\"/>\r\n     <use style=\"fill:#1f77b4;stroke:#1f77b4;\" x=\"337.034403\" xlink:href=\"#mcac3154c7c\" y=\"59.187383\"/>\r\n     <use style=\"fill:#1f77b4;stroke:#1f77b4;\" x=\"340.07804\" xlink:href=\"#mcac3154c7c\" y=\"64.708644\"/>\r\n     <use style=\"fill:#1f77b4;stroke:#1f77b4;\" x=\"343.121676\" xlink:href=\"#mcac3154c7c\" y=\"70.720224\"/>\r\n     <use style=\"fill:#1f77b4;stroke:#1f77b4;\" x=\"346.165312\" xlink:href=\"#mcac3154c7c\" y=\"76.675531\"/>\r\n     <use style=\"fill:#1f77b4;stroke:#1f77b4;\" x=\"349.208949\" xlink:href=\"#mcac3154c7c\" y=\"82.86756\"/>\r\n     <use style=\"fill:#1f77b4;stroke:#1f77b4;\" x=\"352.252585\" xlink:href=\"#mcac3154c7c\" y=\"89.44801\"/>\r\n     <use style=\"fill:#1f77b4;stroke:#1f77b4;\" x=\"355.296222\" xlink:href=\"#mcac3154c7c\" y=\"95.806041\"/>\r\n     <use style=\"fill:#1f77b4;stroke:#1f77b4;\" x=\"358.339858\" xlink:href=\"#mcac3154c7c\" y=\"102.535055\"/>\r\n     <use style=\"fill:#1f77b4;stroke:#1f77b4;\" x=\"361.383494\" xlink:href=\"#mcac3154c7c\" y=\"109.192481\"/>\r\n     <use style=\"fill:#1f77b4;stroke:#1f77b4;\" x=\"364.427131\" xlink:href=\"#mcac3154c7c\" y=\"115.816529\"/>\r\n    </g>\r\n   </g>\r\n   <g id=\"matplotlib.axis_1\">\r\n    <g id=\"xtick_1\">\r\n     <g id=\"line2d_1\">\r\n      <defs>\r\n       <path d=\"M 0 0 \r\nL 0 3.5 \r\n\" id=\"m915e5d8029\" style=\"stroke:#000000;stroke-width:0.8;\"/>\r\n      </defs>\r\n      <g>\r\n       <use style=\"stroke:#000000;stroke-width:0.8;\" x=\"60.063494\" xlink:href=\"#m915e5d8029\" y=\"224.64\"/>\r\n      </g>\r\n     </g>\r\n     <g id=\"text_1\">\r\n      <!-- 0 -->\r\n      <g transform=\"translate(56.882244 239.238438)scale(0.1 -0.1)\">\r\n       <defs>\r\n        <path d=\"M 31.78125 66.40625 \r\nQ 24.171875 66.40625 20.328125 58.90625 \r\nQ 16.5 51.421875 16.5 36.375 \r\nQ 16.5 21.390625 20.328125 13.890625 \r\nQ 24.171875 6.390625 31.78125 6.390625 \r\nQ 39.453125 6.390625 43.28125 13.890625 \r\nQ 47.125 21.390625 47.125 36.375 \r\nQ 47.125 51.421875 43.28125 58.90625 \r\nQ 39.453125 66.40625 31.78125 66.40625 \r\nz\r\nM 31.78125 74.21875 \r\nQ 44.046875 74.21875 50.515625 64.515625 \r\nQ 56.984375 54.828125 56.984375 36.375 \r\nQ 56.984375 17.96875 50.515625 8.265625 \r\nQ 44.046875 -1.421875 31.78125 -1.421875 \r\nQ 19.53125 -1.421875 13.0625 8.265625 \r\nQ 6.59375 17.96875 6.59375 36.375 \r\nQ 6.59375 54.828125 13.0625 64.515625 \r\nQ 19.53125 74.21875 31.78125 74.21875 \r\nz\r\n\" id=\"DejaVuSans-48\"/>\r\n       </defs>\r\n       <use xlink:href=\"#DejaVuSans-48\"/>\r\n      </g>\r\n     </g>\r\n    </g>\r\n    <g id=\"xtick_2\">\r\n     <g id=\"line2d_2\">\r\n      <g>\r\n       <use style=\"stroke:#000000;stroke-width:0.8;\" x=\"104.933806\" xlink:href=\"#m915e5d8029\" y=\"224.64\"/>\r\n      </g>\r\n     </g>\r\n     <g id=\"text_2\">\r\n      <!-- 1 -->\r\n      <g transform=\"translate(101.752556 239.238438)scale(0.1 -0.1)\">\r\n       <defs>\r\n        <path d=\"M 12.40625 8.296875 \r\nL 28.515625 8.296875 \r\nL 28.515625 63.921875 \r\nL 10.984375 60.40625 \r\nL 10.984375 69.390625 \r\nL 28.421875 72.90625 \r\nL 38.28125 72.90625 \r\nL 38.28125 8.296875 \r\nL 54.390625 8.296875 \r\nL 54.390625 0 \r\nL 12.40625 0 \r\nz\r\n\" id=\"DejaVuSans-49\"/>\r\n       </defs>\r\n       <use xlink:href=\"#DejaVuSans-49\"/>\r\n      </g>\r\n     </g>\r\n    </g>\r\n    <g id=\"xtick_3\">\r\n     <g id=\"line2d_3\">\r\n      <g>\r\n       <use style=\"stroke:#000000;stroke-width:0.8;\" x=\"149.804117\" xlink:href=\"#m915e5d8029\" y=\"224.64\"/>\r\n      </g>\r\n     </g>\r\n     <g id=\"text_3\">\r\n      <!-- 2 -->\r\n      <g transform=\"translate(146.622867 239.238438)scale(0.1 -0.1)\">\r\n       <defs>\r\n        <path d=\"M 19.1875 8.296875 \r\nL 53.609375 8.296875 \r\nL 53.609375 0 \r\nL 7.328125 0 \r\nL 7.328125 8.296875 \r\nQ 12.9375 14.109375 22.625 23.890625 \r\nQ 32.328125 33.6875 34.8125 36.53125 \r\nQ 39.546875 41.84375 41.421875 45.53125 \r\nQ 43.3125 49.21875 43.3125 52.78125 \r\nQ 43.3125 58.59375 39.234375 62.25 \r\nQ 35.15625 65.921875 28.609375 65.921875 \r\nQ 23.96875 65.921875 18.8125 64.3125 \r\nQ 13.671875 62.703125 7.8125 59.421875 \r\nL 7.8125 69.390625 \r\nQ 13.765625 71.78125 18.9375 73 \r\nQ 24.125 74.21875 28.421875 74.21875 \r\nQ 39.75 74.21875 46.484375 68.546875 \r\nQ 53.21875 62.890625 53.21875 53.421875 \r\nQ 53.21875 48.921875 51.53125 44.890625 \r\nQ 49.859375 40.875 45.40625 35.40625 \r\nQ 44.1875 33.984375 37.640625 27.21875 \r\nQ 31.109375 20.453125 19.1875 8.296875 \r\nz\r\n\" id=\"DejaVuSans-50\"/>\r\n       </defs>\r\n       <use xlink:href=\"#DejaVuSans-50\"/>\r\n      </g>\r\n     </g>\r\n    </g>\r\n    <g id=\"xtick_4\">\r\n     <g id=\"line2d_4\">\r\n      <g>\r\n       <use style=\"stroke:#000000;stroke-width:0.8;\" x=\"194.674428\" xlink:href=\"#m915e5d8029\" y=\"224.64\"/>\r\n      </g>\r\n     </g>\r\n     <g id=\"text_4\">\r\n      <!-- 3 -->\r\n      <g transform=\"translate(191.493178 239.238438)scale(0.1 -0.1)\">\r\n       <defs>\r\n        <path d=\"M 40.578125 39.3125 \r\nQ 47.65625 37.796875 51.625 33 \r\nQ 55.609375 28.21875 55.609375 21.1875 \r\nQ 55.609375 10.40625 48.1875 4.484375 \r\nQ 40.765625 -1.421875 27.09375 -1.421875 \r\nQ 22.515625 -1.421875 17.65625 -0.515625 \r\nQ 12.796875 0.390625 7.625 2.203125 \r\nL 7.625 11.71875 \r\nQ 11.71875 9.328125 16.59375 8.109375 \r\nQ 21.484375 6.890625 26.8125 6.890625 \r\nQ 36.078125 6.890625 40.9375 10.546875 \r\nQ 45.796875 14.203125 45.796875 21.1875 \r\nQ 45.796875 27.640625 41.28125 31.265625 \r\nQ 36.765625 34.90625 28.71875 34.90625 \r\nL 20.21875 34.90625 \r\nL 20.21875 43.015625 \r\nL 29.109375 43.015625 \r\nQ 36.375 43.015625 40.234375 45.921875 \r\nQ 44.09375 48.828125 44.09375 54.296875 \r\nQ 44.09375 59.90625 40.109375 62.90625 \r\nQ 36.140625 65.921875 28.71875 65.921875 \r\nQ 24.65625 65.921875 20.015625 65.03125 \r\nQ 15.375 64.15625 9.8125 62.3125 \r\nL 9.8125 71.09375 \r\nQ 15.4375 72.65625 20.34375 73.4375 \r\nQ 25.25 74.21875 29.59375 74.21875 \r\nQ 40.828125 74.21875 47.359375 69.109375 \r\nQ 53.90625 64.015625 53.90625 55.328125 \r\nQ 53.90625 49.265625 50.4375 45.09375 \r\nQ 46.96875 40.921875 40.578125 39.3125 \r\nz\r\n\" id=\"DejaVuSans-51\"/>\r\n       </defs>\r\n       <use xlink:href=\"#DejaVuSans-51\"/>\r\n      </g>\r\n     </g>\r\n    </g>\r\n    <g id=\"xtick_5\">\r\n     <g id=\"line2d_5\">\r\n      <g>\r\n       <use style=\"stroke:#000000;stroke-width:0.8;\" x=\"239.54474\" xlink:href=\"#m915e5d8029\" y=\"224.64\"/>\r\n      </g>\r\n     </g>\r\n     <g id=\"text_5\">\r\n      <!-- 4 -->\r\n      <g transform=\"translate(236.36349 239.238438)scale(0.1 -0.1)\">\r\n       <defs>\r\n        <path d=\"M 37.796875 64.3125 \r\nL 12.890625 25.390625 \r\nL 37.796875 25.390625 \r\nz\r\nM 35.203125 72.90625 \r\nL 47.609375 72.90625 \r\nL 47.609375 25.390625 \r\nL 58.015625 25.390625 \r\nL 58.015625 17.1875 \r\nL 47.609375 17.1875 \r\nL 47.609375 0 \r\nL 37.796875 0 \r\nL 37.796875 17.1875 \r\nL 4.890625 17.1875 \r\nL 4.890625 26.703125 \r\nz\r\n\" id=\"DejaVuSans-52\"/>\r\n       </defs>\r\n       <use xlink:href=\"#DejaVuSans-52\"/>\r\n      </g>\r\n     </g>\r\n    </g>\r\n    <g id=\"xtick_6\">\r\n     <g id=\"line2d_6\">\r\n      <g>\r\n       <use style=\"stroke:#000000;stroke-width:0.8;\" x=\"284.415051\" xlink:href=\"#m915e5d8029\" y=\"224.64\"/>\r\n      </g>\r\n     </g>\r\n     <g id=\"text_6\">\r\n      <!-- 5 -->\r\n      <g transform=\"translate(281.233801 239.238438)scale(0.1 -0.1)\">\r\n       <defs>\r\n        <path d=\"M 10.796875 72.90625 \r\nL 49.515625 72.90625 \r\nL 49.515625 64.59375 \r\nL 19.828125 64.59375 \r\nL 19.828125 46.734375 \r\nQ 21.96875 47.46875 24.109375 47.828125 \r\nQ 26.265625 48.1875 28.421875 48.1875 \r\nQ 40.625 48.1875 47.75 41.5 \r\nQ 54.890625 34.8125 54.890625 23.390625 \r\nQ 54.890625 11.625 47.5625 5.09375 \r\nQ 40.234375 -1.421875 26.90625 -1.421875 \r\nQ 22.3125 -1.421875 17.546875 -0.640625 \r\nQ 12.796875 0.140625 7.71875 1.703125 \r\nL 7.71875 11.625 \r\nQ 12.109375 9.234375 16.796875 8.0625 \r\nQ 21.484375 6.890625 26.703125 6.890625 \r\nQ 35.15625 6.890625 40.078125 11.328125 \r\nQ 45.015625 15.765625 45.015625 23.390625 \r\nQ 45.015625 31 40.078125 35.4375 \r\nQ 35.15625 39.890625 26.703125 39.890625 \r\nQ 22.75 39.890625 18.8125 39.015625 \r\nQ 14.890625 38.140625 10.796875 36.28125 \r\nz\r\n\" id=\"DejaVuSans-53\"/>\r\n       </defs>\r\n       <use xlink:href=\"#DejaVuSans-53\"/>\r\n      </g>\r\n     </g>\r\n    </g>\r\n    <g id=\"xtick_7\">\r\n     <g id=\"line2d_7\">\r\n      <g>\r\n       <use style=\"stroke:#000000;stroke-width:0.8;\" x=\"329.285362\" xlink:href=\"#m915e5d8029\" y=\"224.64\"/>\r\n      </g>\r\n     </g>\r\n     <g id=\"text_7\">\r\n      <!-- 6 -->\r\n      <g transform=\"translate(326.104112 239.238438)scale(0.1 -0.1)\">\r\n       <defs>\r\n        <path d=\"M 33.015625 40.375 \r\nQ 26.375 40.375 22.484375 35.828125 \r\nQ 18.609375 31.296875 18.609375 23.390625 \r\nQ 18.609375 15.53125 22.484375 10.953125 \r\nQ 26.375 6.390625 33.015625 6.390625 \r\nQ 39.65625 6.390625 43.53125 10.953125 \r\nQ 47.40625 15.53125 47.40625 23.390625 \r\nQ 47.40625 31.296875 43.53125 35.828125 \r\nQ 39.65625 40.375 33.015625 40.375 \r\nz\r\nM 52.59375 71.296875 \r\nL 52.59375 62.3125 \r\nQ 48.875 64.0625 45.09375 64.984375 \r\nQ 41.3125 65.921875 37.59375 65.921875 \r\nQ 27.828125 65.921875 22.671875 59.328125 \r\nQ 17.53125 52.734375 16.796875 39.40625 \r\nQ 19.671875 43.65625 24.015625 45.921875 \r\nQ 28.375 48.1875 33.59375 48.1875 \r\nQ 44.578125 48.1875 50.953125 41.515625 \r\nQ 57.328125 34.859375 57.328125 23.390625 \r\nQ 57.328125 12.15625 50.6875 5.359375 \r\nQ 44.046875 -1.421875 33.015625 -1.421875 \r\nQ 20.359375 -1.421875 13.671875 8.265625 \r\nQ 6.984375 17.96875 6.984375 36.375 \r\nQ 6.984375 53.65625 15.1875 63.9375 \r\nQ 23.390625 74.21875 37.203125 74.21875 \r\nQ 40.921875 74.21875 44.703125 73.484375 \r\nQ 48.484375 72.75 52.59375 71.296875 \r\nz\r\n\" id=\"DejaVuSans-54\"/>\r\n       </defs>\r\n       <use xlink:href=\"#DejaVuSans-54\"/>\r\n      </g>\r\n     </g>\r\n    </g>\r\n    <g id=\"xtick_8\">\r\n     <g id=\"line2d_8\">\r\n      <g>\r\n       <use style=\"stroke:#000000;stroke-width:0.8;\" x=\"374.155673\" xlink:href=\"#m915e5d8029\" y=\"224.64\"/>\r\n      </g>\r\n     </g>\r\n     <g id=\"text_8\">\r\n      <!-- 7 -->\r\n      <g transform=\"translate(370.974423 239.238438)scale(0.1 -0.1)\">\r\n       <defs>\r\n        <path d=\"M 8.203125 72.90625 \r\nL 55.078125 72.90625 \r\nL 55.078125 68.703125 \r\nL 28.609375 0 \r\nL 18.3125 0 \r\nL 43.21875 64.59375 \r\nL 8.203125 64.59375 \r\nz\r\n\" id=\"DejaVuSans-55\"/>\r\n       </defs>\r\n       <use xlink:href=\"#DejaVuSans-55\"/>\r\n      </g>\r\n     </g>\r\n    </g>\r\n   </g>\r\n   <g id=\"matplotlib.axis_2\">\r\n    <g id=\"ytick_1\">\r\n     <g id=\"line2d_9\">\r\n      <defs>\r\n       <path d=\"M 0 0 \r\nL -3.5 0 \r\n\" id=\"m3387c8e46c\" style=\"stroke:#000000;stroke-width:0.8;\"/>\r\n      </defs>\r\n      <g>\r\n       <use style=\"stroke:#000000;stroke-width:0.8;\" x=\"44.845313\" xlink:href=\"#m3387c8e46c\" y=\"214.730003\"/>\r\n      </g>\r\n     </g>\r\n     <g id=\"text_9\">\r\n      <!-- −1.00 -->\r\n      <g transform=\"translate(7.2 218.529222)scale(0.1 -0.1)\">\r\n       <defs>\r\n        <path d=\"M 10.59375 35.5 \r\nL 73.1875 35.5 \r\nL 73.1875 27.203125 \r\nL 10.59375 27.203125 \r\nz\r\n\" id=\"DejaVuSans-8722\"/>\r\n        <path d=\"M 10.6875 12.40625 \r\nL 21 12.40625 \r\nL 21 0 \r\nL 10.6875 0 \r\nz\r\n\" id=\"DejaVuSans-46\"/>\r\n       </defs>\r\n       <use xlink:href=\"#DejaVuSans-8722\"/>\r\n       <use x=\"83.789062\" xlink:href=\"#DejaVuSans-49\"/>\r\n       <use x=\"147.412109\" xlink:href=\"#DejaVuSans-46\"/>\r\n       <use x=\"179.199219\" xlink:href=\"#DejaVuSans-48\"/>\r\n       <use x=\"242.822266\" xlink:href=\"#DejaVuSans-48\"/>\r\n      </g>\r\n     </g>\r\n    </g>\r\n    <g id=\"ytick_2\">\r\n     <g id=\"line2d_10\">\r\n      <g>\r\n       <use style=\"stroke:#000000;stroke-width:0.8;\" x=\"44.845313\" xlink:href=\"#m3387c8e46c\" y=\"190.012028\"/>\r\n      </g>\r\n     </g>\r\n     <g id=\"text_10\">\r\n      <!-- −0.75 -->\r\n      <g transform=\"translate(7.2 193.811247)scale(0.1 -0.1)\">\r\n       <use xlink:href=\"#DejaVuSans-8722\"/>\r\n       <use x=\"83.789062\" xlink:href=\"#DejaVuSans-48\"/>\r\n       <use x=\"147.412109\" xlink:href=\"#DejaVuSans-46\"/>\r\n       <use x=\"179.199219\" xlink:href=\"#DejaVuSans-55\"/>\r\n       <use x=\"242.822266\" xlink:href=\"#DejaVuSans-53\"/>\r\n      </g>\r\n     </g>\r\n    </g>\r\n    <g id=\"ytick_3\">\r\n     <g id=\"line2d_11\">\r\n      <g>\r\n       <use style=\"stroke:#000000;stroke-width:0.8;\" x=\"44.845313\" xlink:href=\"#m3387c8e46c\" y=\"165.294053\"/>\r\n      </g>\r\n     </g>\r\n     <g id=\"text_11\">\r\n      <!-- −0.50 -->\r\n      <g transform=\"translate(7.2 169.093272)scale(0.1 -0.1)\">\r\n       <use xlink:href=\"#DejaVuSans-8722\"/>\r\n       <use x=\"83.789062\" xlink:href=\"#DejaVuSans-48\"/>\r\n       <use x=\"147.412109\" xlink:href=\"#DejaVuSans-46\"/>\r\n       <use x=\"179.199219\" xlink:href=\"#DejaVuSans-53\"/>\r\n       <use x=\"242.822266\" xlink:href=\"#DejaVuSans-48\"/>\r\n      </g>\r\n     </g>\r\n    </g>\r\n    <g id=\"ytick_4\">\r\n     <g id=\"line2d_12\">\r\n      <g>\r\n       <use style=\"stroke:#000000;stroke-width:0.8;\" x=\"44.845313\" xlink:href=\"#m3387c8e46c\" y=\"140.576078\"/>\r\n      </g>\r\n     </g>\r\n     <g id=\"text_12\">\r\n      <!-- −0.25 -->\r\n      <g transform=\"translate(7.2 144.375296)scale(0.1 -0.1)\">\r\n       <use xlink:href=\"#DejaVuSans-8722\"/>\r\n       <use x=\"83.789062\" xlink:href=\"#DejaVuSans-48\"/>\r\n       <use x=\"147.412109\" xlink:href=\"#DejaVuSans-46\"/>\r\n       <use x=\"179.199219\" xlink:href=\"#DejaVuSans-50\"/>\r\n       <use x=\"242.822266\" xlink:href=\"#DejaVuSans-53\"/>\r\n      </g>\r\n     </g>\r\n    </g>\r\n    <g id=\"ytick_5\">\r\n     <g id=\"line2d_13\">\r\n      <g>\r\n       <use style=\"stroke:#000000;stroke-width:0.8;\" x=\"44.845313\" xlink:href=\"#m3387c8e46c\" y=\"115.858102\"/>\r\n      </g>\r\n     </g>\r\n     <g id=\"text_13\">\r\n      <!-- 0.00 -->\r\n      <g transform=\"translate(15.579688 119.657321)scale(0.1 -0.1)\">\r\n       <use xlink:href=\"#DejaVuSans-48\"/>\r\n       <use x=\"63.623047\" xlink:href=\"#DejaVuSans-46\"/>\r\n       <use x=\"95.410156\" xlink:href=\"#DejaVuSans-48\"/>\r\n       <use x=\"159.033203\" xlink:href=\"#DejaVuSans-48\"/>\r\n      </g>\r\n     </g>\r\n    </g>\r\n    <g id=\"ytick_6\">\r\n     <g id=\"line2d_14\">\r\n      <g>\r\n       <use style=\"stroke:#000000;stroke-width:0.8;\" x=\"44.845313\" xlink:href=\"#m3387c8e46c\" y=\"91.140127\"/>\r\n      </g>\r\n     </g>\r\n     <g id=\"text_14\">\r\n      <!-- 0.25 -->\r\n      <g transform=\"translate(15.579688 94.939346)scale(0.1 -0.1)\">\r\n       <use xlink:href=\"#DejaVuSans-48\"/>\r\n       <use x=\"63.623047\" xlink:href=\"#DejaVuSans-46\"/>\r\n       <use x=\"95.410156\" xlink:href=\"#DejaVuSans-50\"/>\r\n       <use x=\"159.033203\" xlink:href=\"#DejaVuSans-53\"/>\r\n      </g>\r\n     </g>\r\n    </g>\r\n    <g id=\"ytick_7\">\r\n     <g id=\"line2d_15\">\r\n      <g>\r\n       <use style=\"stroke:#000000;stroke-width:0.8;\" x=\"44.845313\" xlink:href=\"#m3387c8e46c\" y=\"66.422152\"/>\r\n      </g>\r\n     </g>\r\n     <g id=\"text_15\">\r\n      <!-- 0.50 -->\r\n      <g transform=\"translate(15.579688 70.221371)scale(0.1 -0.1)\">\r\n       <use xlink:href=\"#DejaVuSans-48\"/>\r\n       <use x=\"63.623047\" xlink:href=\"#DejaVuSans-46\"/>\r\n       <use x=\"95.410156\" xlink:href=\"#DejaVuSans-53\"/>\r\n       <use x=\"159.033203\" xlink:href=\"#DejaVuSans-48\"/>\r\n      </g>\r\n     </g>\r\n    </g>\r\n    <g id=\"ytick_8\">\r\n     <g id=\"line2d_16\">\r\n      <g>\r\n       <use style=\"stroke:#000000;stroke-width:0.8;\" x=\"44.845313\" xlink:href=\"#m3387c8e46c\" y=\"41.704177\"/>\r\n      </g>\r\n     </g>\r\n     <g id=\"text_16\">\r\n      <!-- 0.75 -->\r\n      <g transform=\"translate(15.579688 45.503395)scale(0.1 -0.1)\">\r\n       <use xlink:href=\"#DejaVuSans-48\"/>\r\n       <use x=\"63.623047\" xlink:href=\"#DejaVuSans-46\"/>\r\n       <use x=\"95.410156\" xlink:href=\"#DejaVuSans-55\"/>\r\n       <use x=\"159.033203\" xlink:href=\"#DejaVuSans-53\"/>\r\n      </g>\r\n     </g>\r\n    </g>\r\n    <g id=\"ytick_9\">\r\n     <g id=\"line2d_17\">\r\n      <g>\r\n       <use style=\"stroke:#000000;stroke-width:0.8;\" x=\"44.845313\" xlink:href=\"#m3387c8e46c\" y=\"16.986202\"/>\r\n      </g>\r\n     </g>\r\n     <g id=\"text_17\">\r\n      <!-- 1.00 -->\r\n      <g transform=\"translate(15.579688 20.78542)scale(0.1 -0.1)\">\r\n       <use xlink:href=\"#DejaVuSans-49\"/>\r\n       <use x=\"63.623047\" xlink:href=\"#DejaVuSans-46\"/>\r\n       <use x=\"95.410156\" xlink:href=\"#DejaVuSans-48\"/>\r\n       <use x=\"159.033203\" xlink:href=\"#DejaVuSans-48\"/>\r\n      </g>\r\n     </g>\r\n    </g>\r\n   </g>\r\n   <g id=\"patch_3\">\r\n    <path d=\"M 44.845313 224.64 \r\nL 44.845313 7.2 \r\n\" style=\"fill:none;stroke:#000000;stroke-linecap:square;stroke-linejoin:miter;stroke-width:0.8;\"/>\r\n   </g>\r\n   <g id=\"patch_4\">\r\n    <path d=\"M 379.645313 224.64 \r\nL 379.645313 7.2 \r\n\" style=\"fill:none;stroke:#000000;stroke-linecap:square;stroke-linejoin:miter;stroke-width:0.8;\"/>\r\n   </g>\r\n   <g id=\"patch_5\">\r\n    <path d=\"M 44.845313 224.64 \r\nL 379.645312 224.64 \r\n\" style=\"fill:none;stroke:#000000;stroke-linecap:square;stroke-linejoin:miter;stroke-width:0.8;\"/>\r\n   </g>\r\n   <g id=\"patch_6\">\r\n    <path d=\"M 44.845313 7.2 \r\nL 379.645312 7.2 \r\n\" style=\"fill:none;stroke:#000000;stroke-linecap:square;stroke-linejoin:miter;stroke-width:0.8;\"/>\r\n   </g>\r\n  </g>\r\n </g>\r\n <defs>\r\n  <clipPath id=\"p2e43e18ae2\">\r\n   <rect height=\"217.44\" width=\"334.8\" x=\"44.845313\" y=\"7.2\"/>\r\n  </clipPath>\r\n </defs>\r\n</svg>\r\n",
      "image/png": "[encoded data removed]"
     },
     "metadata": {
      "needs_background": "light"
     }
    }
   ],
   "source": [
    "plt.scatter(t,values)"
   ]
  }
 ],
 "metadata": {
  "kernelspec": {
   "name": "python3",
   "display_name": "Python 3",
   "language": "python"
  },
  "language_info": {
   "codemirror_mode": {
    "name": "ipython",
    "version": 3
   },
   "file_extension": ".py",
   "mimetype": "text/x-python",
   "name": "python",
   "nbconvert_exporter": "python",
   "pygments_lexer": "ipython3",
   "version": "3.8.5-final"
  }
 },
 "nbformat": 4,
 "nbformat_minor": 4
}